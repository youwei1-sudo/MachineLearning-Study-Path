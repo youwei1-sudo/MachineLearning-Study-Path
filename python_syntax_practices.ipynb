{
  "nbformat": 4,
  "nbformat_minor": 0,
  "metadata": {
    "colab": {
      "provenance": [],
      "authorship_tag": "ABX9TyO9nRCmHFMBGtLfW04ZLH8h",
      "include_colab_link": true
    },
    "kernelspec": {
      "name": "python3",
      "display_name": "Python 3"
    },
    "language_info": {
      "name": "python"
    },
    "gpuClass": "standard"
  },
  "cells": [
    {
      "cell_type": "markdown",
      "metadata": {
        "id": "view-in-github",
        "colab_type": "text"
      },
      "source": [
        "<a href=\"https://colab.research.google.com/github/youwei1-sudo/MachineLearning-Study-Path/blob/main/python_syntax_practices.ipynb\" target=\"_parent\"><img src=\"https://colab.research.google.com/assets/colab-badge.svg\" alt=\"Open In Colab\"/></a>"
      ]
    },
    {
      "cell_type": "markdown",
      "source": [
        "Suppose you have a string variable defined as y=\"stuff;thing;junk;\". What would be the output from this code?"
      ],
      "metadata": {
        "id": "Tsjs-1t-PUCU"
      }
    },
    {
      "cell_type": "code",
      "source": [
        "y = \"stuff;thing;junk;\"\n",
        "z = y.split(';')\n",
        "len(z)\n",
        "print(z)"
      ],
      "metadata": {
        "id": "b7s-5t6pPokm",
        "outputId": "3cf3683e-c29f-49d7-c7c4-8126dcb8bbe8",
        "colab": {
          "base_uri": "https://localhost:8080/"
        }
      },
      "execution_count": null,
      "outputs": [
        {
          "output_type": "stream",
          "name": "stdout",
          "text": [
            "['stuff', 'thing', 'junk', '']\n"
          ]
        }
      ]
    },
    {
      "cell_type": "markdown",
      "source": [
        "What is the output of this code?"
      ],
      "metadata": {
        "id": "q8TIrzxbQD4p"
      }
    },
    {
      "cell_type": "code",
      "source": [
        "num_list = [1,2,3,4,5]\n",
        "num_list.remove(2)\n",
        "print(num_list)\n",
        "\n",
        "num_list.pop(2)\n",
        "print(num_list)"
      ],
      "metadata": {
        "id": "8aZUtQu6QFvE",
        "outputId": "402b955b-d882-46e9-c2f0-2e83232124a7",
        "colab": {
          "base_uri": "https://localhost:8080/"
        }
      },
      "execution_count": null,
      "outputs": [
        {
          "output_type": "stream",
          "name": "stdout",
          "text": [
            "[1, 3, 4, 5]\n",
            "[1, 3, 5]\n"
          ]
        }
      ]
    },
    {
      "cell_type": "markdown",
      "source": [
        "Which command will create a list from 10 down to 1? Example:"
      ],
      "metadata": {
        "id": "27oFXjilQrYt"
      }
    },
    {
      "cell_type": "code",
      "source": [
        "list(reversed(range(1,11)))"
      ],
      "metadata": {
        "id": "xswMnscYQsXo",
        "outputId": "ca6e6e7d-6881-4144-e726-6ac86c0ddc62",
        "colab": {
          "base_uri": "https://localhost:8080/"
        }
      },
      "execution_count": null,
      "outputs": [
        {
          "output_type": "execute_result",
          "data": {
            "text/plain": [
              "[10, 9, 8, 7, 6, 5, 4, 3, 2, 1]"
            ]
          },
          "metadata": {},
          "execution_count": 7
        }
      ]
    },
    {
      "cell_type": "markdown",
      "source": [
        "Which fragment of code will print exactly the same output as this fragment?"
      ],
      "metadata": {
        "id": "UJKQIH0lQ2qI"
      }
    },
    {
      "cell_type": "code",
      "source": [
        "import math\n",
        "print(int(math.pow(2,10))) # prints 2 elevated to the 10th power"
      ],
      "metadata": {
        "id": "6dt-LLQHQ65E",
        "outputId": "32bdb1ed-3dcf-4574-dd35-4f4867747cd8",
        "colab": {
          "base_uri": "https://localhost:8080/"
        }
      },
      "execution_count": null,
      "outputs": [
        {
          "output_type": "stream",
          "name": "stdout",
          "text": [
            "1024\n"
          ]
        }
      ]
    },
    {
      "cell_type": "code",
      "source": [
        "print(2**10)"
      ],
      "metadata": {
        "id": "9Mvn6ukFQ9bm",
        "outputId": "5920a0d4-9288-4f39-a598-addf65d0bd39",
        "colab": {
          "base_uri": "https://localhost:8080/"
        }
      },
      "execution_count": null,
      "outputs": [
        {
          "output_type": "stream",
          "name": "stdout",
          "text": [
            "1024\n"
          ]
        }
      ]
    },
    {
      "cell_type": "markdown",
      "source": [
        "Which syntax correctly creates a variable that is bound to a tuple?"
      ],
      "metadata": {
        "id": "0BWPfoEBRMxr"
      }
    },
    {
      "cell_type": "code",
      "source": [
        "my_tuple = (2, 'apple', 3.5)\n",
        "\n",
        "print(my_tuple)"
      ],
      "metadata": {
        "id": "Nb0vzZsaRO-P",
        "outputId": "6c535592-c781-4593-e1e4-e84cc2c03359",
        "colab": {
          "base_uri": "https://localhost:8080/"
        }
      },
      "execution_count": null,
      "outputs": [
        {
          "output_type": "stream",
          "name": "stdout",
          "text": [
            "(2, 'apple', 3.5)\n"
          ]
        }
      ]
    },
    {
      "cell_type": "markdown",
      "source": [
        "Q109. What will be the value of x after running this code?"
      ],
      "metadata": {
        "id": "sHUMxk4BSkYq"
      }
    },
    {
      "cell_type": "code",
      "source": [
        "x = {1,2,3,4,5}\n",
        "x.add(5)\n",
        "x.add(6)\n",
        "\n",
        "print(x)"
      ],
      "metadata": {
        "id": "-tylps7ySltx",
        "outputId": "b3b42cb8-1649-436c-9cdd-18863cd154b7",
        "colab": {
          "base_uri": "https://localhost:8080/"
        }
      },
      "execution_count": 2,
      "outputs": [
        {
          "output_type": "stream",
          "name": "stdout",
          "text": [
            "{1, 2, 3, 4, 5, 6}\n"
          ]
        }
      ]
    },
    {
      "cell_type": "markdown",
      "source": [
        "Q111. What is wrong with this function definition?"
      ],
      "metadata": {
        "id": "Xg7vV85jS0kj"
      }
    },
    {
      "cell_type": "code",
      "source": [
        "def be_friendly(greet = \"How are you!\", name):\n",
        "    pass"
      ],
      "metadata": {
        "id": "f5C0DPKETDB8",
        "outputId": "1f44b227-6fec-4bbf-8539-a1dc03dc5ec4",
        "colab": {
          "base_uri": "https://localhost:8080/",
          "height": 158
        }
      },
      "execution_count": 4,
      "outputs": [
        {
          "output_type": "error",
          "ename": "SyntaxError",
          "evalue": "ignored",
          "traceback": [
            "\u001b[0;36m  File \u001b[0;32m\"<ipython-input-4-6eb47f844ae8>\"\u001b[0;36m, line \u001b[0;32m1\u001b[0m\n\u001b[0;31m    def be_friendly(greet = \"How are you!\", name):\u001b[0m\n\u001b[0m                    ^\u001b[0m\n\u001b[0;31mSyntaxError\u001b[0m\u001b[0;31m:\u001b[0m non-default argument follows default argument\n"
          ]
        }
      ]
    },
    {
      "cell_type": "markdown",
      "source": [
        "Q112. Given that NumPy is imported as np, which choice will return True?"
      ],
      "metadata": {
        "id": "VDbTqU36TNaU"
      }
    },
    {
      "cell_type": "code",
      "source": [
        "a = np.empty([3,4])\n",
        "b = np.empty([3,4])\n",
        "np.array_equal(a,b)"
      ],
      "metadata": {
        "id": "0OozDBTBTZpk",
        "outputId": "4bd16439-c4ed-41a1-efaf-1a01d0cdee16",
        "colab": {
          "base_uri": "https://localhost:8080/"
        }
      },
      "execution_count": 8,
      "outputs": [
        {
          "output_type": "execute_result",
          "data": {
            "text/plain": [
              "True"
            ]
          },
          "metadata": {},
          "execution_count": 8
        }
      ]
    },
    {
      "cell_type": "code",
      "source": [
        "import numpy as np\n",
        "a = np.zeros([3,4])\n",
        "b = a.copy()\n",
        "np.array_equal(a,b)"
      ],
      "metadata": {
        "id": "WJtayDnNTMYG",
        "outputId": "90693aae-c9f7-4488-8afb-6b2486b4134a",
        "colab": {
          "base_uri": "https://localhost:8080/"
        }
      },
      "execution_count": 5,
      "outputs": [
        {
          "output_type": "execute_result",
          "data": {
            "text/plain": [
              "True"
            ]
          },
          "metadata": {},
          "execution_count": 5
        }
      ]
    },
    {
      "cell_type": "code",
      "source": [
        "a = np.array([1, np.nan])\n",
        "np.array_equal(a,a)\n",
        "\n",
        "# Nah is not equal to Nah, as IEEE 754 commitee, \n",
        "#To leave this strange metaphor of mine and go back to Python,\n",
        "# NaN cannot be equal to itself because NaN is the result of a failure, but that failure can happen in multiple ways. \n",
        "#The result of one failure cannot be equal to the result of any other failure and unknown values cannot be equal to each other"
      ],
      "metadata": {
        "id": "RwzT0Vl7T27H",
        "outputId": "0b76aae8-cdb5-4d85-eac8-b54aa656d4d1",
        "colab": {
          "base_uri": "https://localhost:8080/"
        }
      },
      "execution_count": 9,
      "outputs": [
        {
          "output_type": "execute_result",
          "data": {
            "text/plain": [
              "False"
            ]
          },
          "metadata": {},
          "execution_count": 9
        }
      ]
    },
    {
      "cell_type": "markdown",
      "source": [
        "Q115. What two functions within the NumPy library could you use to solve a system of linear equations?\n",
        "\n"
      ],
      "metadata": {
        "id": "7h4c2qMrU_Mi"
      }
    },
    {
      "cell_type": "code",
      "source": [
        "#linalg.eig() and .matmul()"
      ],
      "metadata": {
        "id": "sTBEvjINVDgA"
      },
      "execution_count": null,
      "outputs": []
    },
    {
      "cell_type": "markdown",
      "source": [
        "Immutable data types are those, whose values cannot be modified once they are created. Examples of immutable data types are int, str, bool, float, tuple, etc. We should consider mutable objects whenever we are certain that the size of our data might change"
      ],
      "metadata": {
        "id": "We68lJK9Yzgl"
      }
    },
    {
      "cell_type": "markdown",
      "source": [
        "Q124. How would you create a list of tuples matching these lists of characters and actors"
      ],
      "metadata": {
        "id": "bERORRXoZPHL"
      }
    },
    {
      "cell_type": "code",
      "source": [
        "characters = [\"Iron Man\", \"Spider Man\", \"Captain America\"]\n",
        "actors = [\"Downey\", \"Holland\", \"Evans\"]\n",
        "\n",
        "# example output : [(\"IronMan\", \"Downey\"), (\"Spider Man\", \"Holland\"), (\"Captain America\", \"Evans\")]\n",
        "\n",
        "a = zip(characters, actors)\n",
        "\n",
        "for x, y in a:\n",
        "\n",
        "  print(x,y)"
      ],
      "metadata": {
        "id": "k-sJ7rXnZUE7",
        "outputId": "380f143b-7378-4ca3-8499-d10d16bb5182",
        "colab": {
          "base_uri": "https://localhost:8080/"
        }
      },
      "execution_count": 6,
      "outputs": [
        {
          "output_type": "stream",
          "name": "stdout",
          "text": [
            "Iron Man Downey\n",
            "Spider Man Holland\n",
            "Captain America Evans\n"
          ]
        }
      ]
    },
    {
      "cell_type": "markdown",
      "source": [
        "Q125. What will this statement return?\n",
        "\n",
        "{x : x*x for x in range(1,100)}"
      ],
      "metadata": {
        "id": "nE6Iik8AZ290"
      }
    },
    {
      "cell_type": "code",
      "source": [
        "\n",
        "#a dictionary with x as a key, and x squared as its value; from 1 to 99"
      ],
      "metadata": {
        "id": "eZoZvPcjZ5R-"
      },
      "execution_count": 9,
      "outputs": []
    },
    {
      "cell_type": "markdown",
      "source": [
        "Q126. Jaccard Similarity is a formula that tells you how similar two sets are. It is defined as the cardinality of the intersection divided by the cardinality of the union. Which choice is an accurate implementation in Python?"
      ],
      "metadata": {
        "id": "doECSOnzaGw5"
      }
    },
    {
      "cell_type": "code",
      "source": [
        "def jaccard(a, b): return len (a & b) / len (a | b)"
      ],
      "metadata": {
        "id": "n3Y5NjxKaM3i"
      },
      "execution_count": 10,
      "outputs": []
    },
    {
      "cell_type": "markdown",
      "source": [
        "Q128. What will be the output of this code?"
      ],
      "metadata": {
        "id": "AIyVywF4aYRw"
      }
    },
    {
      "cell_type": "code",
      "source": [
        "[1,2,3] * 3"
      ],
      "metadata": {
        "id": "pWkdgq4raXAR",
        "outputId": "1333717d-9007-48fa-ff9e-3e141883f264",
        "colab": {
          "base_uri": "https://localhost:8080/"
        }
      },
      "execution_count": 11,
      "outputs": [
        {
          "output_type": "execute_result",
          "data": {
            "text/plain": [
              "[1, 2, 3, 1, 2, 3, 1, 2, 3]"
            ]
          },
          "metadata": {},
          "execution_count": 11
        }
      ]
    },
    {
      "cell_type": "markdown",
      "source": [
        "Q133. What do you get if you apply numpy.sum() to a list that contains only Boolean values?"
      ],
      "metadata": {
        "id": "Vw7EzruqaqGE"
      }
    },
    {
      "cell_type": "code",
      "source": [
        "#the count of all True values"
      ],
      "metadata": {
        "id": "gpKiJmXEarYh"
      },
      "execution_count": null,
      "outputs": []
    },
    {
      "cell_type": "markdown",
      "source": [
        "Q139. In this code fragment, what will be the values of a and b ?\n",
        "\n",
        "import numpy as np\n",
        "\n",
        "a = np.arange(100)\n",
        "b = a[50:60:2]"
      ],
      "metadata": {
        "id": "ipasU1kPcSuz"
      }
    },
    {
      "cell_type": "code",
      "source": [
        "import numpy as np\n",
        "a = np.arange(100) \n",
        "b = a[50:60:2]\n",
        "#a: all integers from 0 to 99 (inclusive) b: all even integers from 50 to 58 (inclusive)"
      ],
      "metadata": {
        "id": "pd_PGuTWcUI6"
      },
      "execution_count": 14,
      "outputs": []
    },
    {
      "cell_type": "markdown",
      "source": [
        "Q140. When using NumPy in Python, how do you check the dimensionality (number and length of dimensions) of an object called my_object?"
      ],
      "metadata": {
        "id": "ggL-_kwCceDa"
      }
    },
    {
      "cell_type": "code",
      "source": [
        "#my_object.shape"
      ],
      "metadata": {
        "id": "NWZpP3_vcezA"
      },
      "execution_count": null,
      "outputs": []
    },
    {
      "cell_type": "markdown",
      "source": [
        "Q145. What is the output of this comprehension?\n",
        "\n",
        "[(x, x+1) for x in range(1,5)] "
      ],
      "metadata": {
        "id": "HOsP22-vcuDm"
      }
    },
    {
      "cell_type": "code",
      "source": [
        "[(x, x+1) for x in range(1,5)] "
      ],
      "metadata": {
        "id": "EJt-gqztcuwp",
        "outputId": "6cfac764-9885-4665-b4e8-8f8e514d197e",
        "colab": {
          "base_uri": "https://localhost:8080/"
        }
      },
      "execution_count": 15,
      "outputs": [
        {
          "output_type": "execute_result",
          "data": {
            "text/plain": [
              "[(1, 2), (2, 3), (3, 4), (4, 5)]"
            ]
          },
          "metadata": {},
          "execution_count": 15
        }
      ]
    },
    {
      "cell_type": "code",
      "source": [
        "from collections import defaultdict\n",
        "\n",
        "animals = {\n",
        "    'a': ['ant', 'antelope', 'armadillo'],\n",
        "    'b': ['beetle', 'bear', 'bat'],\n",
        "    'c': ['cat', 'cougar', 'camel']\n",
        "}\n",
        "\n",
        "animals = defaultdict(list, animals)\n",
        "\n",
        "print(animals['b'])\n",
        "print(animals['d'])"
      ],
      "metadata": {
        "id": "R7NbtkgMdAhO",
        "outputId": "6443f665-e7ee-423a-9083-e12aba17c56e",
        "colab": {
          "base_uri": "https://localhost:8080/"
        }
      },
      "execution_count": 16,
      "outputs": [
        {
          "output_type": "stream",
          "name": "stdout",
          "text": [
            "['beetle', 'bear', 'bat']\n",
            "[]\n"
          ]
        }
      ]
    },
    {
      "cell_type": "markdown",
      "source": [
        "Q155. How many CPUs (or cores) will the Python threading library take advantage of simultaneously?\n",
        "\n",
        " One"
      ],
      "metadata": {
        "id": "KuRV2oj0dZBE"
      }
    },
    {
      "cell_type": "code",
      "source": [
        "#Explanation: Python threading is restricted to a single CPU at one time. The multiprocessing library will allow you to run code on different processors."
      ],
      "metadata": {
        "id": "JG4Qikl2dazB"
      },
      "execution_count": null,
      "outputs": []
    },
    {
      "cell_type": "markdown",
      "source": [
        "Q156 What will be the value of y in this code?\n",
        "\n",
        "x = 5\n",
        "y = 1 + (20 if x < 5 else 30)"
      ],
      "metadata": {
        "id": "-Gx43_J_dhoD"
      }
    },
    {
      "cell_type": "code",
      "source": [
        "x = 5 \n",
        "y = 1 + (20 if x < 5 else 30)\n",
        "#31"
      ],
      "metadata": {
        "id": "gf7b-AcbdiSC"
      },
      "execution_count": null,
      "outputs": []
    }
  ]
}