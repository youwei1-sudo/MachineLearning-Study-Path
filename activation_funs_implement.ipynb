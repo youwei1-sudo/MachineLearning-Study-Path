{
  "nbformat": 4,
  "nbformat_minor": 0,
  "metadata": {
    "colab": {
      "provenance": [],
      "authorship_tag": "ABX9TyPB6rnJun66HReoETwo7rAx",
      "include_colab_link": true
    },
    "kernelspec": {
      "name": "python3",
      "display_name": "Python 3"
    },
    "language_info": {
      "name": "python"
    }
  },
  "cells": [
    {
      "cell_type": "markdown",
      "metadata": {
        "id": "view-in-github",
        "colab_type": "text"
      },
      "source": [
        "<a href=\"https://colab.research.google.com/github/youwei1-sudo/MachineLearning-Study-Path/blob/main/activation_funs_implement.ipynb\" target=\"_parent\"><img src=\"https://colab.research.google.com/assets/colab-badge.svg\" alt=\"Open In Colab\"/></a>"
      ]
    },
    {
      "cell_type": "code",
      "source": [
        "\"\"\"\n",
        "allowed package\n",
        "\"\"\"\n",
        "\n",
        "import numpy as np\n",
        "import pandas as pd\n",
        "import sklearn\n",
        "import scipy"
      ],
      "metadata": {
        "id": "5H_szxClhaDY"
      },
      "execution_count": 1,
      "outputs": []
    },
    {
      "cell_type": "code",
      "execution_count": 9,
      "metadata": {
        "colab": {
          "base_uri": "https://localhost:8080/"
        },
        "id": "U-OxCkZlhL2v",
        "outputId": "460f9d09-e40c-439a-d930-1e869cc22000"
      },
      "outputs": [
        {
          "output_type": "stream",
          "name": "stdout",
          "text": [
            "[4]\n"
          ]
        },
        {
          "output_type": "execute_result",
          "data": {
            "text/plain": [
              "0.0"
            ]
          },
          "metadata": {},
          "execution_count": 9
        }
      ],
      "source": [
        "\"\"\"\n",
        "Relu : Return 0 if the input is negative otherwise return the input as it is.\n",
        "\"\"\"\n",
        "\n",
        "def Relu(num):\n",
        "  return max(num, 0.0)\n",
        "\n",
        "\n",
        "print(Relu(-3))\n",
        "\n",
        "print(np.maximum([-3], [4]) )\n",
        "\n",
        "# np version\n",
        "\n",
        "def Relu(num):\n",
        "  return np.maximum(num, 0.0)\n",
        "\n",
        "print(Relu(-4))"
      ]
    },
    {
      "cell_type": "code",
      "source": [
        "\"\"\"\n",
        "Leaky relu: To address the problem of zero gradient for negative value,\n",
        "  f(x)= 0.01x, x<0\n",
        "      = x,   x>=0\n",
        "\"\"\"\n",
        "\n",
        "def LeakyRelu(x):\n",
        "  if x>0 :\n",
        "    return x\n",
        "  else :\n",
        "    return 0.01*x\n",
        "\n",
        "print(LeakyRelu(-4))"
      ],
      "metadata": {
        "colab": {
          "base_uri": "https://localhost:8080/"
        },
        "id": "cBd4aESqhY56",
        "outputId": "af0a03b8-7fee-4fa1-83d9-4668549cdeb7"
      },
      "execution_count": 11,
      "outputs": [
        {
          "output_type": "stream",
          "name": "stdout",
          "text": [
            "-0.04\n"
          ]
        }
      ]
    },
    {
      "cell_type": "code",
      "source": [
        "\"\"\"\n",
        "Sigmod: sig = 1/(1+ e^-x )\n",
        "\"\"\"\n",
        "\n",
        "\n",
        "def sig(x):\n",
        "  return 1/(1 + np.exp(-x))\n",
        "\n",
        "\n",
        "x = 1.0\n",
        "print('Applying Sigmoid Activation on (%.1f) gives %.1f' % (x, sig(x)))\n",
        "\n",
        "x = -10.0\n",
        "print('Applying Sigmoid Activation on (%.1f) gives %.1f' % (x, sig(x)))\n",
        "\n",
        "x = 0.0\n",
        "print('Applying Sigmoid Activation on (%.1f) gives %.1f' % (x, sig(x)))\n",
        "\n",
        "x = 15.0\n",
        "print('Applying Sigmoid Activation on (%.1f) gives %.1f' % (x, sig(x)))\n",
        "\n",
        "x = -2.0\n",
        "print('Applying Sigmoid Activation on (%.1f) gives %.1f' % (x, sig(x)))\n",
        "\n",
        "\n",
        "# plot use matplot\n",
        "import matplotlib.pyplot as plt\n",
        "\n",
        "x = np.linspace(-10, 10, 50)   \n",
        "p = sig(x)\n",
        "plt.xlabel(\"x\") \n",
        "plt.ylabel(\"Sigmoid(x)\")  \n",
        "plt.plot(x, p) \n",
        "plt.show()"
      ],
      "metadata": {
        "colab": {
          "base_uri": "https://localhost:8080/",
          "height": 390
        },
        "id": "R-cCq0lqjb1F",
        "outputId": "e113d190-0860-4c4d-f7f5-4ee927f54f52"
      },
      "execution_count": 13,
      "outputs": [
        {
          "output_type": "stream",
          "name": "stdout",
          "text": [
            "Applying Sigmoid Activation on (1.0) gives 0.7\n",
            "Applying Sigmoid Activation on (-10.0) gives 0.0\n",
            "Applying Sigmoid Activation on (0.0) gives 0.5\n",
            "Applying Sigmoid Activation on (15.0) gives 1.0\n",
            "Applying Sigmoid Activation on (-2.0) gives 0.1\n"
          ]
        },
        {
          "output_type": "display_data",
          "data": {
            "text/plain": [
              "<Figure size 432x288 with 1 Axes>"
            ],
            "image/png": "[encoded data removed]"
          },
          "metadata": {
            "needs_background": "light"
          }
        }
      ]
    },
    {
      "cell_type": "code",
      "source": [
        "\"\"\"\n",
        "Softmax\n",
        "softmax(x) = np.exp(x)/sum(np.exp(x)) \n",
        "\"\"\"\n",
        "\n",
        "\"\"\"\n",
        "tanh np.tanh(in_array)\n",
        "\"\"\""
      ],
      "metadata": {
        "id": "ACinW6s9kErf"
      },
      "execution_count": null,
      "outputs": []
    }
  ]
}