{
  "nbformat": 4,
  "nbformat_minor": 0,
  "metadata": {
    "colab": {
      "provenance": [],
      "authorship_tag": "ABX9TyOzeNoY6yf85y3hvNy4q581",
      "include_colab_link": true
    },
    "kernelspec": {
      "name": "python3",
      "display_name": "Python 3"
    },
    "language_info": {
      "name": "python"
    }
  },
  "cells": [
    {
      "cell_type": "markdown",
      "metadata": {
        "id": "view-in-github",
        "colab_type": "text"
      },
      "source": [
        "<a href=\"https://colab.research.google.com/github/youwei1-sudo/MachineLearning-Study-Path/blob/main/python_practice_interview.ipynb\" target=\"_parent\"><img src=\"https://colab.research.google.com/assets/colab-badge.svg\" alt=\"Open In Colab\"/></a>"
      ]
    },
    {
      "cell_type": "markdown",
      "source": [
        "Suppose you have a string variable defined as y=\"stuff;thing;junk;\". What would be the output from this code?"
      ],
      "metadata": {
        "id": "Tsjs-1t-PUCU"
      }
    },
    {
      "cell_type": "code",
      "source": [
        "y = \"stuff;thing;junk;\"\n",
        "z = y.split(';')\n",
        "len(z)\n",
        "print(z)"
      ],
      "metadata": {
        "id": "b7s-5t6pPokm",
        "outputId": "3cf3683e-c29f-49d7-c7c4-8126dcb8bbe8",
        "colab": {
          "base_uri": "https://localhost:8080/"
        }
      },
      "execution_count": 4,
      "outputs": [
        {
          "output_type": "stream",
          "name": "stdout",
          "text": [
            "['stuff', 'thing', 'junk', '']\n"
          ]
        }
      ]
    },
    {
      "cell_type": "markdown",
      "source": [
        "What is the output of this code?"
      ],
      "metadata": {
        "id": "q8TIrzxbQD4p"
      }
    },
    {
      "cell_type": "code",
      "source": [
        "num_list = [1,2,3,4,5]\n",
        "num_list.remove(2)\n",
        "print(num_list)\n",
        "\n",
        "num_list.pop(2)\n",
        "print(num_list)"
      ],
      "metadata": {
        "id": "8aZUtQu6QFvE",
        "outputId": "402b955b-d882-46e9-c2f0-2e83232124a7",
        "colab": {
          "base_uri": "https://localhost:8080/"
        }
      },
      "execution_count": 6,
      "outputs": [
        {
          "output_type": "stream",
          "name": "stdout",
          "text": [
            "[1, 3, 4, 5]\n",
            "[1, 3, 5]\n"
          ]
        }
      ]
    },
    {
      "cell_type": "markdown",
      "source": [
        "Which command will create a list from 10 down to 1? Example:"
      ],
      "metadata": {
        "id": "27oFXjilQrYt"
      }
    },
    {
      "cell_type": "code",
      "source": [
        "list(reversed(range(1,11)))"
      ],
      "metadata": {
        "id": "xswMnscYQsXo",
        "outputId": "ca6e6e7d-6881-4144-e726-6ac86c0ddc62",
        "colab": {
          "base_uri": "https://localhost:8080/"
        }
      },
      "execution_count": 7,
      "outputs": [
        {
          "output_type": "execute_result",
          "data": {
            "text/plain": [
              "[10, 9, 8, 7, 6, 5, 4, 3, 2, 1]"
            ]
          },
          "metadata": {},
          "execution_count": 7
        }
      ]
    },
    {
      "cell_type": "markdown",
      "source": [
        "Which fragment of code will print exactly the same output as this fragment?"
      ],
      "metadata": {
        "id": "UJKQIH0lQ2qI"
      }
    },
    {
      "cell_type": "code",
      "source": [
        "import math\n",
        "print(int(math.pow(2,10))) # prints 2 elevated to the 10th power"
      ],
      "metadata": {
        "id": "6dt-LLQHQ65E",
        "outputId": "32bdb1ed-3dcf-4574-dd35-4f4867747cd8",
        "colab": {
          "base_uri": "https://localhost:8080/"
        }
      },
      "execution_count": 10,
      "outputs": [
        {
          "output_type": "stream",
          "name": "stdout",
          "text": [
            "1024\n"
          ]
        }
      ]
    },
    {
      "cell_type": "code",
      "source": [
        "print(2**10)"
      ],
      "metadata": {
        "id": "9Mvn6ukFQ9bm",
        "outputId": "5920a0d4-9288-4f39-a598-addf65d0bd39",
        "colab": {
          "base_uri": "https://localhost:8080/"
        }
      },
      "execution_count": 9,
      "outputs": [
        {
          "output_type": "stream",
          "name": "stdout",
          "text": [
            "1024\n"
          ]
        }
      ]
    },
    {
      "cell_type": "markdown",
      "source": [
        "Which syntax correctly creates a variable that is bound to a tuple?"
      ],
      "metadata": {
        "id": "0BWPfoEBRMxr"
      }
    },
    {
      "cell_type": "code",
      "source": [
        "my_tuple = (2, 'apple', 3.5)\n",
        "\n",
        "print(my_tuple)"
      ],
      "metadata": {
        "id": "Nb0vzZsaRO-P",
        "outputId": "6c535592-c781-4593-e1e4-e84cc2c03359",
        "colab": {
          "base_uri": "https://localhost:8080/"
        }
      },
      "execution_count": 12,
      "outputs": [
        {
          "output_type": "stream",
          "name": "stdout",
          "text": [
            "(2, 'apple', 3.5)\n"
          ]
        }
      ]
    }
  ]
}