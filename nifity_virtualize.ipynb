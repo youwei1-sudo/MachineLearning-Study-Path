{
 "cells": [
  {
   "cell_type": "code",
   "execution_count": 8,
   "id": "ab58cc44-fc53-4e2c-9a01-7955568019bd",
   "metadata": {},
   "outputs": [
    {
     "data": {
      "application/vnd.jupyter.widget-view+json": {
       "model_id": "54b4291f58a34091892fb359b5d6fa62",
       "version_major": 2,
       "version_minor": 0
      },
      "text/plain": [
       "interactive(children=(IntSlider(value=0, description='index', max=93), IntSlider(value=0, description='slice_i…"
      ]
     },
     "metadata": {},
     "output_type": "display_data"
    }
   ],
   "source": [
    "\"\"\"\n",
    "Listcen to Youwei Chen \n",
    "\"\"\"\n",
    "\n",
    "import matplotlib.pyplot as plt\n",
    "import nibabel as nib\n",
    "import ipywidgets as widgets\n",
    "\n",
    "def load_images(image_dir, mask_dir):\n",
    "    image_files = [f for f in os.listdir(image_dir) if f.endswith('.nii')]\n",
    "    \n",
    "    all_images = []\n",
    "    all_masks = []\n",
    "    \n",
    "    for image_file in image_files:\n",
    "        image_path = os.path.join(image_dir, image_file)\n",
    "        image = nib.load(image_path)\n",
    "        image_data = image.get_fdata()\n",
    "        \n",
    "        mask_file = image_file\n",
    "        mask_path = os.path.join(mask_dir, mask_file)\n",
    "        mask = nib.load(mask_path)\n",
    "        mask_data = mask.get_fdata()\n",
    "        \n",
    "        all_images.append(image_data)\n",
    "        all_masks.append(mask_data)\n",
    "        \n",
    "    return all_images, all_masks\n",
    "\n",
    "def plot_images(images, masks, index, slice_index):\n",
    "    # Ensure slice_index is within valid range\n",
    "    slice_index = min(max(slice_index, 0), images[index].shape[0] - 1)\n",
    "\n",
    "    fig, ax = plt.subplots(1, 2, figsize=(12, 6))\n",
    "\n",
    "    # Show the selected slice of the image\n",
    "    ax[0].imshow(images[index][slice_index], cmap='gray')\n",
    "    ax[0].set_title('Image')\n",
    "\n",
    "    # Show corresponding slice of the mask\n",
    "    ax[1].imshow(masks[index][slice_index], cmap='gray')\n",
    "    ax[1].set_title('Mask')\n",
    "\n",
    "    plt.show()\n",
    "\n",
    "if __name__ == \"__main__\":\n",
    "    image_dir = '../../../dataset/3d_nifiti_20230620/image'\n",
    "    mask_dir = '../../../dataset/3d_nifiti_20230620/label'\n",
    "    images, masks = load_images(image_dir, mask_dir)\n",
    "    \n",
    "    # Slider to select which image/mask pair to display\n",
    "    index_slider = widgets.IntSlider(value=0, min=0, max=len(images)-1, step=1)\n",
    "\n",
    "    # Slider to select which slice of the image/mask to display\n",
    "    slice_slider = widgets.IntSlider(value=0, min=0, max=images[0].shape[0]-1, step=1)\n",
    "\n",
    "    def update_slice_slider(*args):\n",
    "        slice_slider.max = images[index_slider.value].shape[0] - 1\n",
    "        slice_slider.value = slice_slider.max // 2\n",
    "\n",
    "    index_slider.observe(update_slice_slider, 'value')\n",
    "\n",
    "    # Update the UI when a slider value changes\n",
    "    widgets.interact(plot_images, images=widgets.fixed(images), masks=widgets.fixed(masks), index=index_slider, slice_index=slice_slider)\n"
   ]
  },
  {
   "cell_type": "code",
   "execution_count": null,
   "id": "2c8980d9-5dc0-4268-a544-7900cade3bce",
   "metadata": {
    "jupyter": {
     "source_hidden": true
    }
   },
   "outputs": [],
   "source": []
  }
 ],
 "metadata": {
  "kernelspec": {
   "display_name": "Python 3 (ipykernel)",
   "language": "python",
   "name": "python3"
  },
  "language_info": {
   "codemirror_mode": {
    "name": "ipython",
    "version": 3
   },
   "file_extension": ".py",
   "mimetype": "text/x-python",
   "name": "python",
   "nbconvert_exporter": "python",
   "pygments_lexer": "ipython3",
   "version": "3.10.1"
  }
 },
 "nbformat": 4,
 "nbformat_minor": 5
}
